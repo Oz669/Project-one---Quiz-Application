{
  "nbformat": 4,
  "nbformat_minor": 0,
  "metadata": {
    "colab": {
      "name": "Project 1 - Quiz Application",
      "provenance": [],
      "collapsed_sections": [],
      "authorship_tag": "ABX9TyNsoBByHPG1t3uSLDGpXXX5",
      "include_colab_link": true
    },
    "kernelspec": {
      "name": "python3",
      "display_name": "Python 3"
    }
  },
  "cells": [
    {
      "cell_type": "markdown",
      "metadata": {
        "id": "view-in-github",
        "colab_type": "text"
      },
      "source": [
        "<a href=\"https://colab.research.google.com/github/Oz669/Project-one---Quiz-Application/blob/main/Project_1_Quiz_Application.ipynb\" target=\"_parent\"><img src=\"https://colab.research.google.com/assets/colab-badge.svg\" alt=\"Open In Colab\"/></a>"
      ]
    },
    {
      "cell_type": "code",
      "metadata": {
        "id": "eS24lxpzrib2",
        "colab": {
          "base_uri": "https://localhost:8080/"
        },
        "outputId": "d345505f-e413-42a9-d24f-9c03c97ca7b2"
      },
      "source": [
        "pip install colorama"
      ],
      "execution_count": null,
      "outputs": [
        {
          "output_type": "stream",
          "text": [
            "Collecting colorama\n",
            "  Downloading https://files.pythonhosted.org/packages/44/98/5b86278fbbf250d239ae0ecb724f8572af1c91f4a11edf4d36a206189440/colorama-0.4.4-py2.py3-none-any.whl\n",
            "Installing collected packages: colorama\n",
            "Successfully installed colorama-0.4.4\n"
          ],
          "name": "stdout"
        }
      ]
    },
    {
      "cell_type": "code",
      "metadata": {
        "id": "ceHi6-JtiLCp"
      },
      "source": [
        "from dataclasses import dataclass, field, fields\n",
        "from datetime import datetime, timedelta, date, time\n",
        "import pathlib\n",
        "import csv\n",
        "import numpy as np\n",
        "from colorama import *\n",
        "from google.colab import output\n",
        "\n",
        "@dataclass \n",
        "class candidate:\n",
        "  name: str\n",
        "  gender: str\n",
        "  birthday: date \n",
        "  questionnaire_resulte: dict = field(default_factory=dict)\n",
        "\n",
        "  def total_score(self):\n",
        "    return sum([val[0] for key, val in self.questionnaire_resulte.items()])   # dict format key: [score, time] \n",
        "\n",
        "  def avareg_time_to_question(self):\n",
        "    return np.mean([val[1] for key, val in self.questionnaire_resulte.items()])   # dict format key: [score, time]\n",
        "\n",
        "  def cal_age(self):\n",
        "    pass\n",
        "    \n",
        "\n",
        "  \n",
        "def upload_questionnaire(file_name): \n",
        "  with open(file_name, newline='', encoding='utf-8') as f:\n",
        "    reader = csv.reader(f)\n",
        "    return [x for x in reader]  \n",
        "\n",
        "def start_questionnaire():\n",
        "  while True:\n",
        "    file_name = \"Questionnaire_DB_V1.csv\" # input(\"please write the questionnaire file name or write 0 to exit: \") #Questionnaire_DB_V1.csv\n",
        "    if file_name == '0':\n",
        "      break\n",
        "    try:\n",
        "      questionnaire_db = upload_questionnaire(file_name)\n",
        "      break\n",
        "    except:\n",
        "      print(\"file name is incorrect, please try agine\")\n",
        "  return display_questionnaire(questionnaire_db)\n",
        "          \n",
        "def display_questionnaire(questionnaire_db):\n",
        "  print(Fore.RED + Style.BRIGHT +\"\\nTo exit the questionnaire at any time, press 0\\nThe rest of the question will get zero points at a ziro time.\\n\" + Style.RESET_ALL)\n",
        "  questionnaire_resulte = {}\n",
        "  while True:\n",
        "    start_q = input(\"\\nAre you ready to begin? (time will start in the moment you will begin)(Y/N) \").lower()\n",
        "    if start_q == 'y' or start_q == 'n':\n",
        "      break\n",
        "    else:\n",
        "      print(Fore.RED + Style.BRIGHT +\"\\nChoose only Y or N\" +Style.RESET_ALL)\n",
        "\n",
        "  if start_q == 'y':\n",
        "    for question in questionnaire_db:\n",
        "      if question[0].isdigit():\n",
        "        start_time = datetime.now()\n",
        "        print(Back.YELLOW + Style.BRIGHT + \"\\nQuestion number \",question[0] + Style.RESET_ALL)\n",
        "        print(\"\\n\",question[1])\n",
        "        print(\"\\n\",question[2])\n",
        "        print(Style.DIM + \"-\"*100 + Style.RESET_ALL)\n",
        "        print(Style.BRIGHT + \"\\nChoose your answer from the 4 option:\" + Style.RESET_ALL)\n",
        "        print(\"\\n1)\",question[3])\n",
        "        print(\"\\n2) \",question[4])\n",
        "        print(\"\\n3) \",question[5])\n",
        "        print(\"\\n4)\",question[6])\n",
        "        \n",
        "        while True:\n",
        "          answer = input(\"\\nChoose the correct answer (1,2,3,4): \")\n",
        "          if answer == \"0\":\n",
        "            break\n",
        "          elif answer == \"1\":\n",
        "            answer = question[3]\n",
        "            end_time = datetime.now()\n",
        "            break\n",
        "          elif answer == \"2\":\n",
        "            answer = question[4]\n",
        "            end_time = datetime.now()\n",
        "            break\n",
        "          elif answer == \"3\":\n",
        "            answer = question[5]\n",
        "            end_time = datetime.now()\n",
        "            break\n",
        "          elif answer == \"4\":\n",
        "            answer = question[6]\n",
        "            end_time = datetime.now()\n",
        "            break\n",
        "          else:\n",
        "            print(Fore.RED + Style.BRIGHT + \"\\nInvelid input, please choose 1,2,3 or 4, if you want to stop choose 0\" + Style.RESET_ALL)\n",
        "        \n",
        "        if answer == \"0\":\n",
        "          print(Fore.RED + Style.BRIGHT +f\"\\nThe result until question number {int(question[0])-1} have been saved.\\n\" + Style.RESET_ALL)\n",
        "          output.clear()\n",
        "          break\n",
        "        \n",
        "        print(Style.DIM + \"_\"*100 + Style.RESET_ALL)\n",
        "        if answer == question[8]:\n",
        "          questionnaire_resulte[question[0]] = [int(question[7]),(end_time - start_time).total_seconds()]\n",
        "          #print(Style.BRIGHT + \"\\nYou are right, well done !!!\", Style.RESET_ALL +f\"\\nThe right answer is {question[8]}\\nYou get {question[7]} points!\")\n",
        "        else:\n",
        "          questionnaire_resulte[question[0]] = [0,(end_time - start_time).total_seconds()]\n",
        "          #print(Style.BRIGHT + \"\\nWrong answer :(\", Style.RESET_ALL + f\"\\nThe right answer is: {question[8]}\\nTry better next time!!\")\n",
        "          \n",
        "\n",
        "        print(Style.DIM + \"=\"*100 + Style.RESET_ALL)\n",
        "        output.clear()\n",
        "\n",
        "  return questionnaire_resulte  \n",
        "  \n",
        "#main program\n",
        "def start_progrem():\n",
        "  \n",
        "  print(Style.BRIGHT + \"hello, choose what to do from the following option: \" +Style.RESET_ALL)\n",
        "  print(\"\\n1. Start a now questionnaire. \")\n",
        "  print(\"\\n2. Upload candidate data and check statistic. \")\n",
        "  print(\"\\n3. Exit.\")\n",
        "\n",
        "  while True:\n",
        "    to_do = input(\"\\nPlease choose a number: \")\n",
        "    if to_do == \"1\":\n",
        "      c_name = input(\"\\nPlease write you'r name: \")\n",
        "      while True:\n",
        "        c_gender = input(\"\\nWhat is your gender? ('M' for male and 'F' for female): \").lower()\n",
        "        if c_gender == \"m\":\n",
        "          c_gender = \"Male\"\n",
        "          break\n",
        "        elif c_gender == \"f\":\n",
        "          c_gender = \"Female\"\n",
        "          break\n",
        "      c_birthday = input(\"\\nWhen is your birthday? (DD/MM/YYYY): \")\n",
        "      output.clear()\n",
        "      active_candidate = candidate(name= c_name, gender= c_gender, birthday= c_birthday, questionnaire_resulte= start_questionnaire())\n",
        "      \n",
        "      print(Style.DIM + \"*\"*100 + Style.RESET_ALL)\n",
        "      print(Style.BRIGHT + \"\\nCandidate details: \" + Style.RESET_ALL)\n",
        "      print(\"Name   : \",active_candidate.name)\n",
        "      print(\"Gender : \",active_candidate.gender)\n",
        "      print(\"Age    : \",active_candidate.birthday)\n",
        "      print(Style.BRIGHT + \"\\nCandidate questionnaire_resulte: \" + Style.RESET_ALL)\n",
        "      for key, val in active_candidate.questionnaire_resulte.items():\n",
        "        q_status = \"Correct\" if val[0] != 0 else \"Wrong\"\n",
        "        print(f\"\\nQuestion number: {key}, \",Style.BRIGHT + f\"{q_status}\" + Style.RESET_ALL , f\" you get {val[0]} point, Time to answer is {val[1]:.3} sec\")\n",
        "      print(Style.BRIGHT + \"\\nYour total score is: \" + Style.RESET_ALL, active_candidate.total_score())\n",
        "      print(Style.BRIGHT + \"\\nYour average time per question is: \" + Style.RESET_ALL, \"{:.3}\".format(active_candidate.avareg_time_to_question()))\n",
        "      print(Style.DIM + \"*\"*100 + Style.RESET_ALL)\n",
        "      break\n",
        "    elif to_do == \"2\":\n",
        "      break\n",
        "    \n",
        "    elif to_do == \"3\":\n",
        "      break\n",
        "    \n",
        "    else:\n",
        "      print(Fore.RED + \"\\nChoose a valid number \" + Style.RESET_ALL) "
      ],
      "execution_count": null,
      "outputs": []
    },
    {
      "cell_type": "code",
      "metadata": {
        "id": "QjM8mO6V-SEF",
        "colab": {
          "base_uri": "https://localhost:8080/"
        },
        "outputId": "8886e302-b519-45c3-8bf3-e36b0b0a4670"
      },
      "source": [
        "#print(candidate.start_questionnaire())\n",
        "#print(candidate.upload_questionnaire('Questionnaire_DB_V1.csv'))\n",
        "#print(display_questionnaire(upload_questionnaire(\"Questionnaire_DB_V1.csv\")))\n",
        "#print(start_questionnaire())\n",
        "#print(os.system('cls'))\n",
        "\n",
        "start_progrem()"
      ],
      "execution_count": null,
      "outputs": [
        {
          "output_type": "stream",
          "text": [
            "\u001b[2m****************************************************************************************************\u001b[0m\n",
            "\u001b[1m\n",
            "Candidate details: \u001b[0m\n",
            "Name   :  oz\n",
            "Gender :  Male\n",
            "Age    :  27/8/20\n",
            "\u001b[1m\n",
            "Candidate questionnaire_resulte: \u001b[0m\n",
            "\n",
            "Question number: 1,  \u001b[1mCorrect\u001b[0m  you get 10 point, Time to answer is 1.06 sec\n",
            "\n",
            "Question number: 2,  \u001b[1mWrong\u001b[0m  you get 0 point, Time to answer is 4.75 sec\n",
            "\n",
            "Question number: 3,  \u001b[1mWrong\u001b[0m  you get 0 point, Time to answer is 1.64 sec\n",
            "\n",
            "Question number: 4,  \u001b[1mCorrect\u001b[0m  you get 10 point, Time to answer is 1.94 sec\n",
            "\n",
            "Question number: 5,  \u001b[1mCorrect\u001b[0m  you get 10 point, Time to answer is 1.92 sec\n",
            "\n",
            "Question number: 6,  \u001b[1mWrong\u001b[0m  you get 0 point, Time to answer is 2.58 sec\n",
            "\n",
            "Question number: 7,  \u001b[1mCorrect\u001b[0m  you get 10 point, Time to answer is 6.93 sec\n",
            "\n",
            "Question number: 8,  \u001b[1mWrong\u001b[0m  you get 0 point, Time to answer is 6.8 sec\n",
            "\n",
            "Question number: 9,  \u001b[1mWrong\u001b[0m  you get 0 point, Time to answer is 3.88 sec\n",
            "\n",
            "Question number: 10,  \u001b[1mWrong\u001b[0m  you get 0 point, Time to answer is 3.26 sec\n",
            "\n",
            "Question number: 11,  \u001b[1mWrong\u001b[0m  you get 0 point, Time to answer is 6.56 sec\n",
            "\n",
            "Question number: 12,  \u001b[1mWrong\u001b[0m  you get 0 point, Time to answer is 2.93 sec\n",
            "\n",
            "Question number: 13,  \u001b[1mWrong\u001b[0m  you get 0 point, Time to answer is 11.6 sec\n",
            "\n",
            "Question number: 14,  \u001b[1mWrong\u001b[0m  you get 0 point, Time to answer is 2.51 sec\n",
            "\u001b[1m\n",
            "Your total score is: \u001b[0m 40\n",
            "\u001b[1m\n",
            "Your average time per question is: \u001b[0m 4.17\n",
            "\u001b[2m****************************************************************************************************\u001b[0m\n"
          ],
          "name": "stdout"
        }
      ]
    },
    {
      "cell_type": "code",
      "metadata": {
        "id": "G9KK5wBnBf1W",
        "colab": {
          "base_uri": "https://localhost:8080/"
        },
        "outputId": "8e94508c-b46d-45a2-a839-845249fdb96f"
      },
      "source": [
        "import re\n",
        "import datetime\n",
        "\n",
        "def validate_date(d):\n",
        "    try:\n",
        "        regex = r'\\d{2}/\\d{2}/\\d{4}'\n",
        "        if re.match(regex,d):\n",
        "            datetime.strptime(d, '%m/%d/%Y')\n",
        "            return True\n",
        "\n",
        "    except ValueError:\n",
        "        return False\n",
        "\n",
        "    return False\n",
        "\n",
        "date_test = \"22\\5\\2006\"\n",
        "\n",
        "print(validate_date(date_test))"
      ],
      "execution_count": null,
      "outputs": [
        {
          "output_type": "stream",
          "text": [
            "False\n"
          ],
          "name": "stdout"
        }
      ]
    },
    {
      "cell_type": "code",
      "metadata": {
        "colab": {
          "base_uri": "https://localhost:8080/",
          "height": 190
        },
        "id": "IqVGo0eJ62lw",
        "outputId": "301f0033-7c40-4aa3-a6c5-688a27012e58"
      },
      "source": [
        "import sqlite3\n",
        "conn = sqlite3.connect('Questionnaire_DB.db')\n",
        "c = conn.cursor()\n",
        "c.execute"
      ],
      "execution_count": null,
      "outputs": [
        {
          "output_type": "error",
          "ename": "AttributeError",
          "evalue": "ignored",
          "traceback": [
            "\u001b[0;31m---------------------------------------------------------------------------\u001b[0m",
            "\u001b[0;31mAttributeError\u001b[0m                            Traceback (most recent call last)",
            "\u001b[0;32m<ipython-input-81-446f71f0b32b>\u001b[0m in \u001b[0;36m<module>\u001b[0;34m()\u001b[0m\n\u001b[1;32m      2\u001b[0m \u001b[0mconn\u001b[0m \u001b[0;34m=\u001b[0m \u001b[0msqlite3\u001b[0m\u001b[0;34m.\u001b[0m\u001b[0mconnect\u001b[0m\u001b[0;34m(\u001b[0m\u001b[0;34m'Questionnaire_DB.db'\u001b[0m\u001b[0;34m)\u001b[0m\u001b[0;34m\u001b[0m\u001b[0;34m\u001b[0m\u001b[0m\n\u001b[1;32m      3\u001b[0m \u001b[0mc\u001b[0m \u001b[0;34m=\u001b[0m \u001b[0mconn\u001b[0m\u001b[0;34m.\u001b[0m\u001b[0mcursor\u001b[0m\u001b[0;34m(\u001b[0m\u001b[0;34m)\u001b[0m\u001b[0;34m\u001b[0m\u001b[0;34m\u001b[0m\u001b[0m\n\u001b[0;32m----> 4\u001b[0;31m \u001b[0mc\u001b[0m\u001b[0;34m.\u001b[0m\u001b[0me\u001b[0m\u001b[0;34m\u001b[0m\u001b[0;34m\u001b[0m\u001b[0m\n\u001b[0m",
            "\u001b[0;31mAttributeError\u001b[0m: 'sqlite3.Cursor' object has no attribute 'e'"
          ]
        }
      ]
    }
  ]
}